{
 "cells": [
  {
   "cell_type": "markdown",
   "id": "353fd7f6-2fe6-4699-aa36-4f7e95d54bed",
   "metadata": {},
   "source": [
    "# New House Price Prediction"
   ]
  },
  {
   "cell_type": "markdown",
   "id": "e9419b2f-1586-4df7-b608-f5be6cd7931a",
   "metadata": {},
   "source": [
    "## I include Square Feet, Bedrooms, Bathrooms, and Location Rating as features."
   ]
  },
  {
   "cell_type": "code",
   "execution_count": 2,
   "id": "1f45ac11-4954-4027-ba6e-76182219363f",
   "metadata": {},
   "outputs": [
    {
     "name": "stdout",
     "output_type": "stream",
     "text": [
      "   Square_Feet  Bedrooms  Bathrooms  Location_Rating   Price\n",
      "0         1500         3          2                2  200000\n",
      "1         2000         4          3                9  350000\n",
      "2         2500         4          3                7  400000\n",
      "3         1800         3          2                3  250000\n",
      "4         2200         4          3                8  360000\n",
      "5         2700         5          4                5  380000\n",
      "6         3000         5          4               10  500000\n",
      "7         3500         6          5                4  300000\n",
      "8         4000         6          5                9  600000\n",
      "9         4500         7          6                6  450000\n"
     ]
    }
   ],
   "source": [
    "import pandas as pd\n",
    "import numpy as np\n",
    "from sklearn.model_selection import train_test_split\n",
    "from sklearn.linear_model import LinearRegression\n",
    "# Creating a dataset\n",
    "data = {\n",
    "    'Square_Feet': [1500, 2000, 2500, 1800, 2200, 2700, 3000, 3500, 4000, 4500],\n",
    "    'Bedrooms': [3, 4, 4, 3, 4, 5, 5, 6, 6, 7],\n",
    "    'Bathrooms': [2, 3, 3, 2, 3, 4, 4, 5, 5, 6],\n",
    "    'Location_Rating': [2, 9, 7, 3, 8, 5, 10, 4, 9, 6],  # Scale: 1 (bad) to 10 (prime)\n",
    "    'Price': [200000, 350000, 400000, 250000, 360000, 380000, 500000, 300000, 600000, 450000]\n",
    "}\n",
    "\n",
    "# Convert to DataFrame\n",
    "df = pd.DataFrame(data)\n",
    "\n",
    "# Show dataset\n",
    "print(df)"
   ]
  },
  {
   "cell_type": "code",
   "execution_count": 4,
   "id": "3c4700e4-f59c-4df1-86fe-9bc3c8595c9e",
   "metadata": {},
   "outputs": [],
   "source": [
    "# Define independent (X) and dependent (Y) variables\n",
    "X = df[['Square_Feet', 'Bedrooms', 'Bathrooms', 'Location_Rating']]  # Features\n",
    "Y = df['Price']  # Target variable (House Price)\n",
    "\n",
    "# Split data into training (80%) and testing (20%)\n",
    "X_train, X_test, Y_train, Y_test = train_test_split(X, Y, test_size=0.2, random_state=42)\n"
   ]
  },
  {
   "cell_type": "code",
   "execution_count": 5,
   "id": "80ef8bff-9f74-465d-9cab-e00d60b7243f",
   "metadata": {},
   "outputs": [
    {
     "name": "stdout",
     "output_type": "stream",
     "text": [
      "Coefficients: [   64.50154389 -7842.59667696 -7842.59667696 27980.81164535]\n",
      "Intercept: 87348.91927657678\n"
     ]
    }
   ],
   "source": [
    "# Create a Linear Regression model\n",
    "model = LinearRegression()\n",
    "\n",
    "# Train the model\n",
    "model.fit(X_train, Y_train)\n",
    "\n",
    "# Display model coefficients\n",
    "print(\"Coefficients:\", model.coef_)\n",
    "print(\"Intercept:\", model.intercept_)\n"
   ]
  },
  {
   "cell_type": "code",
   "execution_count": 6,
   "id": "172776e9-cd60-4473-b3f6-44363f52b13a",
   "metadata": {},
   "outputs": [
    {
     "name": "stdout",
     "output_type": "stream",
     "text": [
      "Predicted Price for the new house: $ 436901.56\n"
     ]
    },
    {
     "name": "stderr",
     "output_type": "stream",
     "text": [
      "/Users/mtgmacpro11/Desktop/miniconda3/envs/Python_DS/lib/python3.9/site-packages/sklearn/base.py:439: UserWarning: X does not have valid feature names, but LinearRegression was fitted with feature names\n",
      "  warnings.warn(\n"
     ]
    }
   ],
   "source": [
    "# New house features\n",
    "new_house = np.array([[2800, 4, 3, 8]])\n",
    "\n",
    "# Predict the price\n",
    "predicted_price = model.predict(new_house)\n",
    "\n",
    "print(\"Predicted Price for the new house: $\", round(predicted_price[0], 2))\n"
   ]
  },
  {
   "cell_type": "code",
   "execution_count": null,
   "id": "5fdd3ffb-95ad-4a05-aa96-3d99751b24bb",
   "metadata": {},
   "outputs": [],
   "source": []
  }
 ],
 "metadata": {
  "kernelspec": {
   "display_name": "Python 3 (ipykernel)",
   "language": "python",
   "name": "python3"
  },
  "language_info": {
   "codemirror_mode": {
    "name": "ipython",
    "version": 3
   },
   "file_extension": ".py",
   "mimetype": "text/x-python",
   "name": "python",
   "nbconvert_exporter": "python",
   "pygments_lexer": "ipython3",
   "version": "3.9.20"
  }
 },
 "nbformat": 4,
 "nbformat_minor": 5
}
